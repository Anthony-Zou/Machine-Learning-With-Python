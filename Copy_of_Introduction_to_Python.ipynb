{
  "nbformat": 4,
  "nbformat_minor": 0,
  "metadata": {
    "colab": {
      "name": "Copy of Introduction to Python.ipynb",
      "provenance": [],
      "authorship_tag": "ABX9TyPp53ixqwCt32M8eS6xQxf3",
      "include_colab_link": true
    },
    "kernelspec": {
      "name": "python3",
      "display_name": "Python 3"
    },
    "language_info": {
      "name": "python"
    }
  },
  "cells": [
    {
      "cell_type": "markdown",
      "metadata": {
        "id": "view-in-github",
        "colab_type": "text"
      },
      "source": [
        "<a href=\"https://colab.research.google.com/github/Anthony-Zou/Machine-Learning-With-Python/blob/main/Copy_of_Introduction_to_Python.ipynb\" target=\"_parent\"><img src=\"https://colab.research.google.com/assets/colab-badge.svg\" alt=\"Open In Colab\"/></a>"
      ]
    },
    {
      "cell_type": "markdown",
      "source": [
        "Google colab allows you to execute Python instructions one at a time and shows the result instantly.\n",
        "Type the following at the prompt to have Python do some simple math :\n",
        ">      2 + 2"
      ],
      "metadata": {
        "id": "6hGQli0XJD57"
      }
    },
    {
      "cell_type": "code",
      "execution_count": null,
      "metadata": {
        "id": "6yq5BPoyHPqL",
        "outputId": "f708236e-701a-4539-d42b-c135faac5c7a",
        "colab": {
          "base_uri": "https://localhost:8080/"
        }
      },
      "outputs": [
        {
          "output_type": "execute_result",
          "data": {
            "text/plain": [
              "4"
            ]
          },
          "metadata": {},
          "execution_count": 1
        }
      ],
      "source": [
        "2+2"
      ]
    },
    {
      "cell_type": "code",
      "source": [
        ""
      ],
      "metadata": {
        "id": "gxDG_a4PJSOl"
      },
      "execution_count": null,
      "outputs": []
    }
  ]
}